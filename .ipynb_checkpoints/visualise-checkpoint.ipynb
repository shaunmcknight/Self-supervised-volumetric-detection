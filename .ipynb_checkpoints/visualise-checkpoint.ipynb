{
 "cells": [
  {
   "cell_type": "code",
   "execution_count": null,
   "id": "883a796d-f93c-4a0f-be33-48dccc6f4ff9",
   "metadata": {},
   "outputs": [],
   "source": [
    "import ipyvolume as ipv\n",
    "import matplotlib.pyplot as plt\n",
    "from matplotlib.pyplot import cm \n",
    "import numpy as np\n",
    "\n",
    "def plot_3d(data, description='Data Title'):  \n",
    "    table_ct2 = cm.plasma(np.linspace(0, 1, 255))\n",
    "    table_ct2[0:25, 3] = 0 # make the lower values transparent\n",
    "    table_ct2[25:50, 3] = 0.0 # make the lower values transparent\n",
    "    table_ct2[50:100, 3] = 0.4 # make the lower values transparent\n",
    "    table_ct2[100:150, 3] = 0.6 # make the lower values transparent\n",
    "    table_ct2[150:200, 3] = 0.8 # make the lower values transparent\n",
    "    table_ct2[200:250, 3] = 1 # make the lower values transparent\n",
    "    table_ct2[0:int(255*np.nanmedian(data)/2), 3] = 0 # make the lower values transparent\n",
    "\n",
    "    tf_ct2 = ipv.TransferFunction(rgba=table_ct2)\n",
    "\n",
    "    ipv.clear()\n",
    "    ipv.figure()\n",
    "    ct_vol = ipv.quickvolshow(np.flip(data,axis=1), \n",
    "                              tf=tf_ct2, lighting=False, description=description)\n",
    "    # ipv.pylab.save('Data.html')\n",
    "    ipv.show()"
   ]
  },
  {
   "cell_type": "code",
   "execution_count": null,
   "id": "cc62b0c0-d0a4-4940-924e-5f4eb0c1ca38",
   "metadata": {},
   "outputs": [],
   "source": [
    "data=np.load('')"
   ]
  }
 ],
 "metadata": {
  "kernelspec": {
   "display_name": "Python 3 (ipykernel)",
   "language": "python",
   "name": "python3"
  },
  "language_info": {
   "codemirror_mode": {
    "name": "ipython",
    "version": 3
   },
   "file_extension": ".py",
   "mimetype": "text/x-python",
   "name": "python",
   "nbconvert_exporter": "python",
   "pygments_lexer": "ipython3",
   "version": "3.10.9"
  }
 },
 "nbformat": 4,
 "nbformat_minor": 5
}

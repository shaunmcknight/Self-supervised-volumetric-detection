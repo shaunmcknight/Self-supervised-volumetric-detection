{
 "cells": [
  {
   "cell_type": "code",
   "execution_count": 2,
   "id": "883a796d-f93c-4a0f-be33-48dccc6f4ff9",
   "metadata": {},
   "outputs": [],
   "source": [
    "import ipyvolume as ipv\n",
    "import matplotlib.pyplot as plt\n",
    "from matplotlib.pyplot import cm \n",
    "import numpy as np\n",
    "\n",
    "def plot_3d(data, description='Data Title'):  \n",
    "    table_ct2 = cm.plasma(np.linspace(0, 1, 255))\n",
    "    table_ct2[0:25, 3] = 0 # make the lower values transparent\n",
    "    table_ct2[25:50, 3] = 0.0 # make the lower values transparent\n",
    "    table_ct2[50:100, 3] = 0.4 # make the lower values transparent\n",
    "    table_ct2[100:150, 3] = 0.6 # make the lower values transparent\n",
    "    table_ct2[150:200, 3] = 0.8 # make the lower values transparent\n",
    "    table_ct2[200:250, 3] = 1 # make the lower values transparent\n",
    "    table_ct2[0:int(255*np.nanmedian(data)/2), 3] = 0 # make the lower values transparent\n",
    "\n",
    "    tf_ct2 = ipv.TransferFunction(rgba=table_ct2)\n",
    "\n",
    "    ipv.clear()\n",
    "    ipv.figure()\n",
    "    ct_vol = ipv.quickvolshow(np.flip(data,axis=1), \n",
    "                              tf=tf_ct2, lighting=False, description=description)\n",
    "    # ipv.pylab.save('Data.html')\n",
    "    ipv.show()"
   ]
  },
  {
   "cell_type": "code",
   "execution_count": 13,
   "id": "1695e232-34a7-4848-bf6f-c19413cf9d9b",
   "metadata": {},
   "outputs": [],
   "source": [
    "data=np.load('C:/GIT/Self-supervised-volumetric-detection/segmented_volume.npy')"
   ]
  },
  {
   "cell_type": "code",
   "execution_count": 14,
   "id": "6dc11696-8fbe-4bdb-afdb-ffb96c5b39e0",
   "metadata": {},
   "outputs": [
    {
     "name": "stdout",
     "output_type": "stream",
     "text": [
      "1.0 0.0\n"
     ]
    },
    {
     "data": {
      "application/vnd.jupyter.widget-view+json": {
       "model_id": "b298ed1d84f74c40bda1f8604c625def",
       "version_major": 2,
       "version_minor": 0
      },
      "text/plain": [
       "Container(children=[HBox(children=(FloatLogSlider(value=1.0, description='opacity', max=2.0, min=-2.0), FloatL…"
      ]
     },
     "metadata": {},
     "output_type": "display_data"
    }
   ],
   "source": [
    "print(data.max(), data.min())\n",
    "plot_3d(data)"
   ]
  },
  {
   "cell_type": "code",
   "execution_count": 7,
   "id": "3c790929-29ec-4385-8719-ce3a0ba6a902",
   "metadata": {},
   "outputs": [
    {
     "data": {
      "text/plain": [
       "(array([642290.,      0.,      0.,      0.,      0.,      0.,      0.,\n",
       "             0.,      0.,   8110.]),\n",
       " array([0. , 0.1, 0.2, 0.3, 0.4, 0.5, 0.6, 0.7, 0.8, 0.9, 1. ]),\n",
       " <BarContainer object of 10 artists>)"
      ]
     },
     "execution_count": 7,
     "metadata": {},
     "output_type": "execute_result"
    },
    {
     "data": {
      "image/png": "[encoded data removed]",
      "text/plain": [
       "<Figure size 640x480 with 1 Axes>"
      ]
     },
     "metadata": {},
     "output_type": "display_data"
    }
   ],
   "source": [
    "plt.figure()\n",
    "plt.hist(data.flatten())"
   ]
  }
 ],
 "metadata": {
  "kernelspec": {
   "display_name": "Python 3 (ipykernel)",
   "language": "python",
   "name": "python3"
  },
  "language_info": {
   "codemirror_mode": {
    "name": "ipython",
    "version": 3
   },
   "file_extension": ".py",
   "mimetype": "text/x-python",
   "name": "python",
   "nbconvert_exporter": "python",
   "pygments_lexer": "ipython3",
   "version": "3.10.9"
  }
 },
 "nbformat": 4,
 "nbformat_minor": 5
}
